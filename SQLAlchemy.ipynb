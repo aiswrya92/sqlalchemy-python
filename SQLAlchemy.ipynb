{
 "cells": [
  {
   "cell_type": "markdown",
   "metadata": {},
   "source": [
    "<center>\n",
    "<h1>Working Examples</h1>\n",
    "<br>\n",
    "</center> "
   ]
  },
  {
   "cell_type": "markdown",
   "metadata": {},
   "source": [
    "**1) Connect to a SQL Database** <br>\n",
    "We will use an in-memory only SQLite database. An in-memory SQLite database does not have a physical file and exists only in the memory. "
   ]
  },
  {
   "cell_type": "code",
   "execution_count": 3,
   "metadata": {
    "collapsed": true
   },
   "outputs": [],
   "source": [
    "import sqlalchemy\n",
    "from sqlalchemy import create_engine\n",
    "engine = create_engine('sqlite:///:memory:', echo=True)\n",
    "\n",
    "#Setting echo to TRUE enables logging.\n",
    "#The return value of create_engine() is an instance of Engine, and it represents the interface to the database."
   ]
  },
  {
   "cell_type": "markdown",
   "metadata": {},
   "source": [
    "**2) Declare a mapping**\n",
    "\n",
    "We have 2 steps to perform:\n",
    "1. Describe the database table\n",
    "2. Create our own classes that will be mapped to these tables. \n",
    "\n",
    "We can combine these 2 steps using a **declarative base class**. We will create the base class, and see how to create a class called **User** that will be mapped to the **Users** table in the database. At the minimum, we have to specify the table name and the primary key column in order to create a class mapped onto some table."
   ]
  },
  {
   "cell_type": "code",
   "execution_count": 4,
   "metadata": {
    "collapsed": true
   },
   "outputs": [],
   "source": [
    "from sqlalchemy.ext.declarative import declarative_base\n",
    "Base = declarative_base()\n",
    "\n",
    "from sqlalchemy import Column, Integer, String\n",
    "class User(Base):\n",
    "    __tablename__ = 'users'\n",
    "    id = Column(Integer, primary_key=True)\n",
    "    name = Column(String)\n",
    "    fullname = Column(String)\n",
    "    password = Column(String)\n",
    "\n",
    "    def __repr__(self):\n",
    "        return \"<User(name='%s', fullname='%s', password='%s')>\" % (self.name, self.fullname, self.password)"
   ]
  },
  {
   "cell_type": "markdown",
   "metadata": {},
   "source": [
    "**3) Create a Schema**\n",
    "\n",
    "We have created a class **User** in which we have defined the information about the table (this is called the **metadata**). We will now create the actual table in the database. \n",
    "\n",
    "We can use MetaData to issue CREATE TABLE statements to the database for all tables that don’t yet exist. Below, we call the MetaData.create_all() method, passing in our Engine as a source of database connectivity."
   ]
  },
  {
   "cell_type": "code",
   "execution_count": 9,
   "metadata": {
    "collapsed": false
   },
   "outputs": [
    {
     "name": "stdout",
     "output_type": "stream",
     "text": [
      "2017-02-17 13:10:23,502 INFO sqlalchemy.engine.base.Engine SELECT CAST('test plain returns' AS VARCHAR(60)) AS anon_1\n",
      "2017-02-17 13:10:23,522 INFO sqlalchemy.engine.base.Engine ()\n",
      "2017-02-17 13:10:23,530 INFO sqlalchemy.engine.base.Engine SELECT CAST('test unicode returns' AS VARCHAR(60)) AS anon_1\n",
      "2017-02-17 13:10:23,534 INFO sqlalchemy.engine.base.Engine ()\n",
      "2017-02-17 13:10:23,542 INFO sqlalchemy.engine.base.Engine PRAGMA table_info(\"users\")\n",
      "2017-02-17 13:10:23,554 INFO sqlalchemy.engine.base.Engine ()\n",
      "2017-02-17 13:10:23,570 INFO sqlalchemy.engine.base.Engine \n",
      "CREATE TABLE users (\n",
      "\tid INTEGER NOT NULL, \n",
      "\tname VARCHAR, \n",
      "\tfullname VARCHAR, \n",
      "\tpassword VARCHAR, \n",
      "\tPRIMARY KEY (id)\n",
      ")\n",
      "\n",
      "\n",
      "2017-02-17 13:10:23,574 INFO sqlalchemy.engine.base.Engine ()\n",
      "2017-02-17 13:10:23,582 INFO sqlalchemy.engine.base.Engine COMMIT\n"
     ]
    }
   ],
   "source": [
    "Base.metadata.create_all(engine)\n",
    "#the logging data below shows us that the existance of the table users (PRAGMA table_info(\"users\")) was first checked before the \n",
    "#create command was issued."
   ]
  },
  {
   "cell_type": "markdown",
   "metadata": {},
   "source": [
    "**4) Instantiating the User class**\n",
    "\n",
    "Now that we have created the table, let us see how to create objects of the table. We will eventually use these objects in an INSERT statement."
   ]
  },
  {
   "cell_type": "code",
   "execution_count": 12,
   "metadata": {
    "collapsed": false
   },
   "outputs": [],
   "source": [
    "user1 = User(name = \"Jane\", fullname = \"Jane Doe\", password = \"password@123\") #note that we are NOT assigning the primary key"
   ]
  },
  {
   "cell_type": "code",
   "execution_count": 13,
   "metadata": {
    "collapsed": false
   },
   "outputs": [
    {
     "data": {
      "text/plain": [
       "'Jane Doe'"
      ]
     },
     "execution_count": 13,
     "metadata": {},
     "output_type": "execute_result"
    }
   ],
   "source": [
    "#we can access each attribute of the object as follows:\n",
    "user1.fullname"
   ]
  },
  {
   "cell_type": "code",
   "execution_count": 14,
   "metadata": {
    "collapsed": false
   },
   "outputs": [
    {
     "data": {
      "text/plain": [
       "'Jane'"
      ]
     },
     "execution_count": 14,
     "metadata": {},
     "output_type": "execute_result"
    }
   ],
   "source": [
    "user1.name"
   ]
  },
  {
   "cell_type": "code",
   "execution_count": 17,
   "metadata": {
    "collapsed": false
   },
   "outputs": [
    {
     "data": {
      "text/plain": [
       "'password@123'"
      ]
     },
     "execution_count": 17,
     "metadata": {},
     "output_type": "execute_result"
    }
   ],
   "source": [
    "user1.password"
   ]
  },
  {
   "cell_type": "code",
   "execution_count": 18,
   "metadata": {
    "collapsed": true
   },
   "outputs": [],
   "source": [
    "user1.id #note that this attribute is empty"
   ]
  },
  {
   "cell_type": "code",
   "execution_count": 19,
   "metadata": {
    "collapsed": false
   },
   "outputs": [
    {
     "data": {
      "text/plain": [
       "'None'"
      ]
     },
     "execution_count": 19,
     "metadata": {},
     "output_type": "execute_result"
    }
   ],
   "source": [
    "str(user1.id)"
   ]
  },
  {
   "cell_type": "markdown",
   "metadata": {},
   "source": [
    "**5) Creating a session** <br>\n",
    "We will now create a session. This variable will be used to talk to the database."
   ]
  },
  {
   "cell_type": "code",
   "execution_count": 20,
   "metadata": {
    "collapsed": true
   },
   "outputs": [],
   "source": [
    "from sqlalchemy.orm import sessionmaker\n",
    "Session = sessionmaker(bind=engine)"
   ]
  },
  {
   "cell_type": "markdown",
   "metadata": {},
   "source": [
    "In case you did not set up the Engine as previously mentioned, you can create the session as: <br><br>\n",
    "<center> Session = sessionmaker() <br><br> </center>\n",
    "and then configure it with the engine once it becomes available, as below: <br><br>\n",
    "<center> Session.configure(bind=engine)</center>"
   ]
  },
  {
   "cell_type": "markdown",
   "metadata": {},
   "source": [
    "The sessionmaker() creates a Session class. Whenever you want to \"talk\" to the database, you have to **instantiate** the class"
   ]
  },
  {
   "cell_type": "code",
   "execution_count": 21,
   "metadata": {
    "collapsed": true
   },
   "outputs": [],
   "source": [
    "session = Session()"
   ]
  },
  {
   "cell_type": "markdown",
   "metadata": {},
   "source": [
    "<br>**6) Adding and Updating Objects **\n",
    "<br><B>add()</B> in used to insert values into the table. **query()** is used for selection and updation operations."
   ]
  },
  {
   "cell_type": "code",
   "execution_count": 23,
   "metadata": {
    "collapsed": true
   },
   "outputs": [],
   "source": [
    "session.add(user1)"
   ]
  },
  {
   "cell_type": "markdown",
   "metadata": {},
   "source": [
    "This will insert the user1 object that we previously created. However, the database will not be updated until a **flush** occurs. Flush occurs when we query the database for \"Jane Doe\". "
   ]
  },
  {
   "cell_type": "code",
   "execution_count": 26,
   "metadata": {
    "collapsed": false
   },
   "outputs": [
    {
     "name": "stdout",
     "output_type": "stream",
     "text": [
      "2017-02-17 14:02:42,768 INFO sqlalchemy.engine.base.Engine BEGIN (implicit)\n",
      "2017-02-17 14:02:42,772 INFO sqlalchemy.engine.base.Engine INSERT INTO users (name, fullname, password) VALUES (?, ?, ?)\n",
      "2017-02-17 14:02:42,776 INFO sqlalchemy.engine.base.Engine ('Jane', 'Jane Doe', 'password@123')\n",
      "2017-02-17 14:02:42,784 INFO sqlalchemy.engine.base.Engine SELECT users.id AS users_id, users.name AS users_name, users.fullname AS users_fullname, users.password AS users_password \n",
      "FROM users\n",
      " LIMIT ? OFFSET ?\n",
      "2017-02-17 14:02:42,788 INFO sqlalchemy.engine.base.Engine (1, 0)\n"
     ]
    },
    {
     "data": {
      "text/plain": [
       "<User(name='Jane', fullname='Jane Doe', password='password@123')>"
      ]
     },
     "execution_count": 26,
     "metadata": {},
     "output_type": "execute_result"
    }
   ],
   "source": [
    "retrievedUser = session.query(User)\n",
    "retrievedUser.first()"
   ]
  },
  {
   "cell_type": "markdown",
   "metadata": {},
   "source": [
    "The logging clearly shows how the INSERT statement is executed **before** the SELECT statement. <br><br><br>\n",
    "To insert multiple rows into the table, add_all() is used as follows:"
   ]
  },
  {
   "cell_type": "code",
   "execution_count": 27,
   "metadata": {
    "collapsed": true
   },
   "outputs": [],
   "source": [
    "session.add_all([\n",
    "     User(name = 'Abriella', fullname = 'Abriella Peters', password = 'blah'),\n",
    "     User(name = 'Monica', fullname = 'Monica Geller', password = 'blah'),\n",
    "     User(name = 'Chandler', fullname = 'Chandler Bing', password = 'blah')])"
   ]
  },
  {
   "cell_type": "markdown",
   "metadata": {},
   "source": [
    "Say we want to change the password for Jane Doe."
   ]
  },
  {
   "cell_type": "code",
   "execution_count": 28,
   "metadata": {
    "collapsed": true
   },
   "outputs": [],
   "source": [
    "user1.password = \"newPassword\""
   ]
  },
  {
   "cell_type": "markdown",
   "metadata": {},
   "source": [
    "As mentioned before, the data hasn't been committed to the database. If you wish to see the pending transactions:<br> **session.dirty** will tell you all the modified records that are still pending <br>\n",
    "**session.new** will tell you all the new records that haven't been inserted"
   ]
  },
  {
   "cell_type": "code",
   "execution_count": 29,
   "metadata": {
    "collapsed": false
   },
   "outputs": [
    {
     "data": {
      "text/plain": [
       "IdentitySet([<User(name='Jane', fullname='Jane Doe', password='newPassword')>])"
      ]
     },
     "execution_count": 29,
     "metadata": {},
     "output_type": "execute_result"
    }
   ],
   "source": [
    "session.dirty"
   ]
  },
  {
   "cell_type": "code",
   "execution_count": 31,
   "metadata": {
    "collapsed": false
   },
   "outputs": [
    {
     "data": {
      "text/plain": [
       "IdentitySet([<User(name='Chandler', fullname='Chandler Bing', password='blah')>, <User(name='Monica', fullname='Monica Geller', password='xxg527')>, <User(name='Abriella', fullname='Abriella Peters', password='foobar')>])"
      ]
     },
     "execution_count": 31,
     "metadata": {},
     "output_type": "execute_result"
    }
   ],
   "source": [
    "session.new"
   ]
  },
  {
   "cell_type": "markdown",
   "metadata": {},
   "source": [
    "Let's commit the pending transactions using session.commit"
   ]
  },
  {
   "cell_type": "code",
   "execution_count": 34,
   "metadata": {
    "collapsed": false
   },
   "outputs": [
    {
     "name": "stdout",
     "output_type": "stream",
     "text": [
      "2017-02-17 14:12:19,794 INFO sqlalchemy.engine.base.Engine UPDATE users SET password=? WHERE users.id = ?\n",
      "2017-02-17 14:12:19,798 INFO sqlalchemy.engine.base.Engine ('newPassword', 1)\n",
      "2017-02-17 14:12:19,806 INFO sqlalchemy.engine.base.Engine INSERT INTO users (name, fullname, password) VALUES (?, ?, ?)\n",
      "2017-02-17 14:12:19,810 INFO sqlalchemy.engine.base.Engine ('Abriella', 'Abriella Peters', 'foobar')\n",
      "2017-02-17 14:12:19,814 INFO sqlalchemy.engine.base.Engine INSERT INTO users (name, fullname, password) VALUES (?, ?, ?)\n",
      "2017-02-17 14:12:19,822 INFO sqlalchemy.engine.base.Engine ('Monica', 'Monica Geller', 'xxg527')\n",
      "2017-02-17 14:12:19,826 INFO sqlalchemy.engine.base.Engine INSERT INTO users (name, fullname, password) VALUES (?, ?, ?)\n",
      "2017-02-17 14:12:19,830 INFO sqlalchemy.engine.base.Engine ('Chandler', 'Chandler Bing', 'blah')\n",
      "2017-02-17 14:12:19,838 INFO sqlalchemy.engine.base.Engine COMMIT\n"
     ]
    }
   ],
   "source": [
    "session.commit()"
   ]
  },
  {
   "cell_type": "code",
   "execution_count": 35,
   "metadata": {
    "collapsed": false
   },
   "outputs": [
    {
     "data": {
      "text/plain": [
       "IdentitySet([])"
      ]
     },
     "execution_count": 35,
     "metadata": {},
     "output_type": "execute_result"
    }
   ],
   "source": [
    "session.new #empty set"
   ]
  },
  {
   "cell_type": "code",
   "execution_count": 37,
   "metadata": {
    "collapsed": false
   },
   "outputs": [
    {
     "data": {
      "text/plain": [
       "IdentitySet([])"
      ]
     },
     "execution_count": 37,
     "metadata": {},
     "output_type": "execute_result"
    }
   ],
   "source": [
    "session.dirty #empty set"
   ]
  },
  {
   "cell_type": "markdown",
   "metadata": {},
   "source": [
    "It is also possible to **rollback** any changes made to the database. <br><br>\n",
    "Let's change the name of user1 to Emily from Jane. Also, let's create a dummy user just to see how rollback works."
   ]
  },
  {
   "cell_type": "code",
   "execution_count": 39,
   "metadata": {
    "collapsed": true
   },
   "outputs": [],
   "source": [
    "user1.name = \"Emily\""
   ]
  },
  {
   "cell_type": "code",
   "execution_count": 41,
   "metadata": {
    "collapsed": true
   },
   "outputs": [],
   "source": [
    "dummyUser = User(name = \"Joey\", fullname = \"Joey Tribbiani\", password = \"blah\")\n",
    "session.add(dummyUser)"
   ]
  },
  {
   "cell_type": "code",
   "execution_count": 42,
   "metadata": {
    "collapsed": false
   },
   "outputs": [
    {
     "name": "stdout",
     "output_type": "stream",
     "text": [
      "2017-02-17 14:18:20,996 INFO sqlalchemy.engine.base.Engine UPDATE users SET name=? WHERE users.id = ?\n",
      "2017-02-17 14:18:21,000 INFO sqlalchemy.engine.base.Engine ('Emily', 1)\n",
      "2017-02-17 14:18:21,008 INFO sqlalchemy.engine.base.Engine INSERT INTO users (name, fullname, password) VALUES (?, ?, ?)\n",
      "2017-02-17 14:18:21,012 INFO sqlalchemy.engine.base.Engine ('Joey', 'Joey Tribbiani', 'blah')\n",
      "2017-02-17 14:18:21,016 INFO sqlalchemy.engine.base.Engine SELECT users.id AS users_id, users.name AS users_name, users.fullname AS users_fullname, users.password AS users_password \n",
      "FROM users\n",
      "2017-02-17 14:18:21,016 INFO sqlalchemy.engine.base.Engine ()\n"
     ]
    },
    {
     "data": {
      "text/plain": [
       "[<User(name='Emily', fullname='Jane Doe', password='newPassword')>,\n",
       " <User(name='Abriella', fullname='Abriella Peters', password='foobar')>,\n",
       " <User(name='Monica', fullname='Monica Geller', password='xxg527')>,\n",
       " <User(name='Chandler', fullname='Chandler Bing', password='blah')>,\n",
       " <User(name='Joey', fullname='Joey Tribbiani', password='blah')>]"
      ]
     },
     "execution_count": 42,
     "metadata": {},
     "output_type": "execute_result"
    }
   ],
   "source": [
    "session.query(User).all()"
   ]
  },
  {
   "cell_type": "markdown",
   "metadata": {},
   "source": [
    "**Note the name change and the record for the dummy user has been inserted.**"
   ]
  },
  {
   "cell_type": "code",
   "execution_count": 44,
   "metadata": {
    "collapsed": false
   },
   "outputs": [
    {
     "name": "stdout",
     "output_type": "stream",
     "text": [
      "2017-02-17 14:19:31,992 INFO sqlalchemy.engine.base.Engine ROLLBACK\n"
     ]
    }
   ],
   "source": [
    "session.rollback()"
   ]
  },
  {
   "cell_type": "code",
   "execution_count": 45,
   "metadata": {
    "collapsed": false
   },
   "outputs": [
    {
     "name": "stdout",
     "output_type": "stream",
     "text": [
      "2017-02-17 14:19:41,139 INFO sqlalchemy.engine.base.Engine BEGIN (implicit)\n",
      "2017-02-17 14:19:41,147 INFO sqlalchemy.engine.base.Engine SELECT users.id AS users_id, users.name AS users_name, users.fullname AS users_fullname, users.password AS users_password \n",
      "FROM users\n",
      "2017-02-17 14:19:41,151 INFO sqlalchemy.engine.base.Engine ()\n"
     ]
    },
    {
     "data": {
      "text/plain": [
       "[<User(name='Jane', fullname='Jane Doe', password='newPassword')>,\n",
       " <User(name='Abriella', fullname='Abriella Peters', password='foobar')>,\n",
       " <User(name='Monica', fullname='Monica Geller', password='xxg527')>,\n",
       " <User(name='Chandler', fullname='Chandler Bing', password='blah')>]"
      ]
     },
     "execution_count": 45,
     "metadata": {},
     "output_type": "execute_result"
    }
   ],
   "source": [
    "session.query(User).all()"
   ]
  },
  {
   "cell_type": "markdown",
   "metadata": {},
   "source": [
    "**All changes have been rolled back.**"
   ]
  },
  {
   "cell_type": "code",
   "execution_count": null,
   "metadata": {
    "collapsed": true
   },
   "outputs": [],
   "source": []
  }
 ],
 "metadata": {
  "anaconda-cloud": {},
  "kernelspec": {
   "display_name": "Python [conda root]",
   "language": "python",
   "name": "conda-root-py"
  },
  "language_info": {
   "codemirror_mode": {
    "name": "ipython",
    "version": 3
   },
   "file_extension": ".py",
   "mimetype": "text/x-python",
   "name": "python",
   "nbconvert_exporter": "python",
   "pygments_lexer": "ipython3",
   "version": "3.5.2"
  }
 },
 "nbformat": 4,
 "nbformat_minor": 1
}
